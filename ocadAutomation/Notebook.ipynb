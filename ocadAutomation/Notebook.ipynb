{
 "cells": [
  {
   "cell_type": "code",
   "execution_count": 7,
   "metadata": {},
   "outputs": [
    {
     "ename": "SyntaxError",
     "evalue": "invalid syntax (2105789312.py, line 26)",
     "output_type": "error",
     "traceback": [
      "\u001b[1;36m  Input \u001b[1;32mIn [7]\u001b[1;36m\u001b[0m\n\u001b[1;33m    print(payload[0]['File.Opn'] || \"PDF\")\u001b[0m\n\u001b[1;37m                                  ^\u001b[0m\n\u001b[1;31mSyntaxError\u001b[0m\u001b[1;31m:\u001b[0m invalid syntax\n"
     ]
    }
   ],
   "source": [
    "payload = [\n",
    "    {\n",
    "        'File.Open': {\n",
    "            'File': r\"C:\\Users\\Bocchio\\Documents\\MEGAsync\\Orienteering\\Carte\\Casa\\Casa 400 impaginazione.ocd\",\n",
    "        },\n",
    "        'File.Export': {\n",
    "            'Format': \"PDF\",\n",
    "            'PartOfMap': {\n",
    "                'Enabled': 'true',\n",
    "                'Coordinates': \"m\",\n",
    "                'L': 2.27,\n",
    "                'R': 207.71,\n",
    "                'B': 960.16,\n",
    "                'T': 812.16\n",
    "            },\n",
    "            'ExportScale': 400,\n",
    "            'Colors': 'normal'\n",
    "        },\n",
    "        'File.Close': {\n",
    "            'Enabled': 'true'\n",
    "        }\n",
    "    }\n",
    "]\n",
    "\n",
    "print(payload[0]['File.Open'])\n",
    "print(payload[0]['File.Opn'] or \"PDF\")"
   ]
  },
  {
   "cell_type": "code",
   "execution_count": 4,
   "metadata": {},
   "outputs": [
    {
     "name": "stdout",
     "output_type": "stream",
     "text": [
      "{}\n"
     ]
    }
   ],
   "source": [
    "data = {}\n",
    "\n",
    "print(data)"
   ]
  }
 ],
 "metadata": {
  "kernelspec": {
   "display_name": "Python 3.10.6 64-bit",
   "language": "python",
   "name": "python3"
  },
  "language_info": {
   "codemirror_mode": {
    "name": "ipython",
    "version": 3
   },
   "file_extension": ".py",
   "mimetype": "text/x-python",
   "name": "python",
   "nbconvert_exporter": "python",
   "pygments_lexer": "ipython3",
   "version": "3.10.6"
  },
  "orig_nbformat": 4,
  "vscode": {
   "interpreter": {
    "hash": "d874ae393de5792dc25a5bb24bf5301b57c80557a650cb0550da9d79a99a71d9"
   }
  }
 },
 "nbformat": 4,
 "nbformat_minor": 2
}
